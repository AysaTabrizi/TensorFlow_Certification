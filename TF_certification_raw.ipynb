{
  "nbformat": 4,
  "nbformat_minor": 0,
  "metadata": {
    "colab": {
      "name": "TF_certification_raw.ipynb",
      "provenance": [],
      "authorship_tag": "ABX9TyNGqrzYPBqL+U2wf1jDdl6g",
      "include_colab_link": true
    },
    "kernelspec": {
      "name": "python3",
      "display_name": "Python 3"
    }
  },
  "cells": [
    {
      "cell_type": "markdown",
      "metadata": {
        "id": "view-in-github",
        "colab_type": "text"
      },
      "source": [
        "<a href=\"https://colab.research.google.com/github/cxbxmxcx/TensorFlow_Certification/blob/master/TF_certification_raw.ipynb\" target=\"_parent\"><img src=\"https://colab.research.google.com/assets/colab-badge.svg\" alt=\"Open In Colab\"/></a>"
      ]
    },
    {
      "cell_type": "markdown",
      "metadata": {
        "id": "92_Lp4UfSj9L",
        "colab_type": "text"
      },
      "source": [
        "Import and setup"
      ]
    },
    {
      "cell_type": "code",
      "metadata": {
        "id": "CYQrqc_vRpUp",
        "colab_type": "code",
        "colab": {}
      },
      "source": [
        "import numpy as np\n",
        "import matplotlib.pyplot as plt\n",
        "from pylab import rcParams\n",
        "\n",
        "%matplotlib inline\n",
        "\n",
        "rcParams['figure.figsize'] = 12, 6\n",
        "\n",
        "RANDOM_SEED = 56\n",
        "\n",
        "np.random.seed(RANDOM_SEED)"
      ],
      "execution_count": 0,
      "outputs": []
    },
    {
      "cell_type": "markdown",
      "metadata": {
        "id": "cE4nVJrhScBM",
        "colab_type": "text"
      },
      "source": [
        "Environment Data"
      ]
    },
    {
      "cell_type": "code",
      "metadata": {
        "id": "ZEA-9Y8eR1Dd",
        "colab_type": "code",
        "colab": {}
      },
      "source": [
        "X = np.array([[1], [2], [3]])\n",
        "y = np.array([ [0], [1], [1]])"
      ],
      "execution_count": 0,
      "outputs": []
    },
    {
      "cell_type": "markdown",
      "metadata": {
        "id": "zoKbdrylSWhD",
        "colab_type": "text"
      },
      "source": [
        "Activation Functions"
      ]
    },
    {
      "cell_type": "code",
      "metadata": {
        "id": "NETV1Jy8SVnJ",
        "colab_type": "code",
        "colab": {}
      },
      "source": [
        "def sigmoid(x):\n",
        "  \"\"\"\n",
        "  Computes the sigmoid function sigm(input) = 1/(1+exp(-input))\n",
        "  \"\"\"\n",
        "  return 1 / (1 + np.exp(-x))\n",
        "\n",
        "def sigmoid_(y):\n",
        "  \"\"\"\n",
        "  Computes the derivative of sigmoid funtion. sigmoid(y) * (1.0 - sigmoid(y)). \n",
        "  The way we implemented this requires that the input y is already sigmoided\n",
        "  \"\"\"\n",
        "  return y * (1-y)"
      ],
      "execution_count": 0,
      "outputs": []
    },
    {
      "cell_type": "markdown",
      "metadata": {
        "id": "UVV1Pj_3SwXt",
        "colab_type": "text"
      },
      "source": [
        "Multiply and Sum inputs*weights"
      ]
    },
    {
      "cell_type": "code",
      "metadata": {
        "id": "NeNySocuSvdJ",
        "colab_type": "code",
        "colab": {}
      },
      "source": [
        "def dense(inputs, weights):\n",
        "    \"\"\"A simple dense layer.\"\"\"\n",
        "    return np.matmul(inputs, weights)"
      ],
      "execution_count": 0,
      "outputs": []
    },
    {
      "cell_type": "markdown",
      "metadata": {
        "id": "-hCa08t5S8XU",
        "colab_type": "text"
      },
      "source": [
        "Initialization"
      ]
    },
    {
      "cell_type": "code",
      "metadata": {
        "id": "P_DImmW7S7WB",
        "colab_type": "code",
        "colab": {}
      },
      "source": [
        "input_size = 1\n",
        "hidden_size = 3\n",
        "output_size = 1\n",
        "\n",
        "def initialize_weights():\n",
        "    # weights for hidden layer, shape: 1x3\n",
        "    w1 = np.random.uniform(size=(input_size, hidden_size))\n",
        "    # weights for output layer, shape: 3x1\n",
        "    w2 = np.random.uniform(size=(hidden_size, output_size))\n",
        "    return w1, w2\n",
        "    \n",
        "w1, w2 = initialize_weights()"
      ],
      "execution_count": 0,
      "outputs": []
    },
    {
      "cell_type": "markdown",
      "metadata": {
        "id": "UKuXJjGKTVfE",
        "colab_type": "text"
      },
      "source": [
        "Forward Pass"
      ]
    },
    {
      "cell_type": "code",
      "metadata": {
        "id": "ticUNSK5TUwp",
        "colab_type": "code",
        "colab": {}
      },
      "source": [
        "def forward_pass(X):\n",
        "    # Step 1: Calculate weighted average of inputs (output shape: 1x3)\n",
        "    net_hidden = dense(X, w1)\n",
        "    \n",
        "    # Step 2: Calculate the result of the sigmoid activation function (shape: 1x3)\n",
        "    act_hidden = sigmoid(net_hidden)\n",
        "    \n",
        "    # Step 3: Calculate output of neural network (output shape: 4x1)\n",
        "    y_hat = dense(act_hidden, w2)\n",
        "    \n",
        "    return act_hidden, y_hat"
      ],
      "execution_count": 0,
      "outputs": []
    },
    {
      "cell_type": "markdown",
      "metadata": {
        "id": "-S5dUTTkTjyR",
        "colab_type": "text"
      },
      "source": [
        "Loss Function"
      ]
    },
    {
      "cell_type": "code",
      "metadata": {
        "id": "UMpOVl8eTmHx",
        "colab_type": "code",
        "colab": {}
      },
      "source": [
        "def mse(y_hat, y):\n",
        "    residual = y_hat - y\n",
        "    error = np.mean(0.5 * (residual ** 2))\n",
        "    return residual, error"
      ],
      "execution_count": 0,
      "outputs": []
    },
    {
      "cell_type": "markdown",
      "metadata": {
        "id": "KkNndE3HTuMs",
        "colab_type": "text"
      },
      "source": [
        "Backpropagation"
      ]
    },
    {
      "cell_type": "code",
      "metadata": {
        "id": "qXysczNGTx0e",
        "colab_type": "code",
        "colab": {}
      },
      "source": [
        "def backward_pass(X, y_hat, act_hidden):\n",
        "    # Step 1: Calculate error\n",
        "    residual, error = mse(y_hat, y)\n",
        "    \n",
        "    # Step 2: calculate gradient wrt w2\n",
        "    N = X.shape[0]\n",
        "    dL_dy = 1.0 / N * residual  # shape (4, 1)\n",
        "    dy_dw2 = act_hidden  # shape (4, 3)\n",
        "    dL_dw2 = np.matmul(dL_dy.T, dy_dw2)  # shape (1, 3)\n",
        "    \n",
        "    # According to the math, `dL_dw2` is a row-vector, however, `w2` is a column-vector.\n",
        "    # To prevent erroneous numpy broadcasting during the gradient update, we must make\n",
        "    # sure that `dL_dw2` is also a column-vector.\n",
        "    dL_dw2 = dL_dw2.T\n",
        "    \n",
        "    # Step 3: calculate gradient wrt w1\n",
        "    dL_dw1 = 1.0 / N * np.matmul(X.T, np.matmul(residual, w2.T) * sigmoid_(act_hidden))\n",
        "    \n",
        "    return dL_dw2, dL_dw1, error"
      ],
      "execution_count": 0,
      "outputs": []
    },
    {
      "cell_type": "markdown",
      "metadata": {
        "id": "_J2ZY3QMUKVi",
        "colab_type": "text"
      },
      "source": [
        "Optimization"
      ]
    },
    {
      "cell_type": "code",
      "metadata": {
        "id": "kG67xDqQTz9_",
        "colab_type": "code",
        "outputId": "59570b4c-a48a-41e3-9f4d-908f488af8c4",
        "colab": {
          "base_uri": "https://localhost:8080/",
          "height": 1000
        }
      },
      "source": [
        "n_epochs = 10000\n",
        "learning_rate = 0.1\n",
        "training_errors = []\n",
        "\n",
        "# re-initialize the weights to be sure we start fresh\n",
        "w1, w2 = initialize_weights()\n",
        "\n",
        "for epoch in range(n_epochs):\n",
        " \n",
        "    # Step 1: forward pass\n",
        "    act_hidden, y_hat = forward_pass(X)\n",
        "    \n",
        "    # Step 2: backward pass\n",
        "    dw2, dw1, error = backward_pass(X, y_hat, act_hidden)\n",
        "    \n",
        "    # Step 3: apply gradients scaled by learning rate\n",
        "    w2 = w2 - learning_rate * dw2\n",
        "    w1 = w1 - learning_rate * dw1\n",
        "    \n",
        "    # Step 4: some book-keeping and print-out\n",
        "    if epoch % 200 == 0:\n",
        "        print('Epoch %d> Training error: %f' % (epoch, error))\n",
        "    training_errors.append([epoch, error])\n",
        "\n",
        "# Plot training error progression over time\n",
        "training_errors = np.asarray(training_errors)\n",
        "plt.plot(training_errors[:, 0], training_errors[:, 1]);\n",
        "plt.xlabel('Epochs');\n",
        "plt.ylabel('Training Error');"
      ],
      "execution_count": 9,
      "outputs": [
        {
          "output_type": "stream",
          "text": [
            "Epoch 0> Training error: 0.097586\n",
            "Epoch 200> Training error: 0.080918\n",
            "Epoch 400> Training error: 0.080034\n",
            "Epoch 600> Training error: 0.079753\n",
            "Epoch 800> Training error: 0.079648\n",
            "Epoch 1000> Training error: 0.079604\n",
            "Epoch 1200> Training error: 0.079585\n",
            "Epoch 1400> Training error: 0.079576\n",
            "Epoch 1600> Training error: 0.079571\n",
            "Epoch 1800> Training error: 0.079569\n",
            "Epoch 2000> Training error: 0.079568\n",
            "Epoch 2200> Training error: 0.079567\n",
            "Epoch 2400> Training error: 0.079567\n",
            "Epoch 2600> Training error: 0.079567\n",
            "Epoch 2800> Training error: 0.079567\n",
            "Epoch 3000> Training error: 0.079567\n",
            "Epoch 3200> Training error: 0.079567\n",
            "Epoch 3400> Training error: 0.079567\n",
            "Epoch 3600> Training error: 0.079567\n",
            "Epoch 3800> Training error: 0.079567\n",
            "Epoch 4000> Training error: 0.079567\n",
            "Epoch 4200> Training error: 0.079567\n",
            "Epoch 4400> Training error: 0.079567\n",
            "Epoch 4600> Training error: 0.079567\n",
            "Epoch 4800> Training error: 0.079567\n",
            "Epoch 5000> Training error: 0.079567\n",
            "Epoch 5200> Training error: 0.079567\n",
            "Epoch 5400> Training error: 0.079567\n",
            "Epoch 5600> Training error: 0.079567\n",
            "Epoch 5800> Training error: 0.079567\n",
            "Epoch 6000> Training error: 0.079567\n",
            "Epoch 6200> Training error: 0.079567\n",
            "Epoch 6400> Training error: 0.079567\n",
            "Epoch 6600> Training error: 0.079567\n",
            "Epoch 6800> Training error: 0.079567\n",
            "Epoch 7000> Training error: 0.079567\n",
            "Epoch 7200> Training error: 0.079567\n",
            "Epoch 7400> Training error: 0.079567\n",
            "Epoch 7600> Training error: 0.079567\n",
            "Epoch 7800> Training error: 0.079567\n",
            "Epoch 8000> Training error: 0.079567\n",
            "Epoch 8200> Training error: 0.079567\n",
            "Epoch 8400> Training error: 0.079567\n",
            "Epoch 8600> Training error: 0.079567\n",
            "Epoch 8800> Training error: 0.079567\n",
            "Epoch 9000> Training error: 0.079567\n",
            "Epoch 9200> Training error: 0.079567\n",
            "Epoch 9400> Training error: 0.079567\n",
            "Epoch 9600> Training error: 0.079567\n",
            "Epoch 9800> Training error: 0.079567\n"
          ],
          "name": "stdout"
        },
        {
          "output_type": "display_data",
          "data": {
            "image/png": "[encoded data removed]",
            "text/plain": [
              "<Figure size 432x288 with 1 Axes>"
            ]
          },
          "metadata": {
            "tags": [],
            "needs_background": "light"
          }
        }
      ]
    },
    {
      "cell_type": "markdown",
      "metadata": {
        "id": "dzycmZJeUuQC",
        "colab_type": "text"
      },
      "source": [
        "Predict"
      ]
    },
    {
      "cell_type": "code",
      "metadata": {
        "id": "aOEZSxLaUs2N",
        "colab_type": "code",
        "outputId": "8396340d-4888-4146-c42f-672dd0107244",
        "colab": {
          "base_uri": "https://localhost:8080/",
          "height": 35
        }
      },
      "source": [
        "print(forward_pass([3]))"
      ],
      "execution_count": 10,
      "outputs": [
        {
          "output_type": "stream",
          "text": [
            "(array([0.90971026, 0.90971026, 0.90971074]), array([0.79917925]))\n"
          ],
          "name": "stdout"
        }
      ]
    }
  ]
}