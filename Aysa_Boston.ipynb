{
  "nbformat": 4,
  "nbformat_minor": 0,
  "metadata": {
    "colab": {
      "name": "Untitled1.ipynb",
      "provenance": [],
      "authorship_tag": "ABX9TyMykSgBou5VIyry/vFrWaKw",
      "include_colab_link": true
    },
    "kernelspec": {
      "name": "python3",
      "display_name": "Python 3"
    }
  },
  "cells": [
    {
      "cell_type": "markdown",
      "metadata": {
        "id": "view-in-github",
        "colab_type": "text"
      },
      "source": [
        "<a href=\"https://colab.research.google.com/github/AysaTabrizi/TensorFlow_Certification/blob/master/Aysa_Boston.ipynb\" target=\"_parent\"><img src=\"https://colab.research.google.com/assets/colab-badge.svg\" alt=\"Open In Colab\"/></a>"
      ]
    },
    {
      "cell_type": "code",
      "metadata": {
        "id": "5W6CJzox_S62",
        "colab_type": "code",
        "colab": {}
      },
      "source": [
        "import tensorflow as tf"
      ],
      "execution_count": 0,
      "outputs": []
    },
    {
      "cell_type": "code",
      "metadata": {
        "id": "N64dGXV__X_T",
        "colab_type": "code",
        "colab": {}
      },
      "source": [
        "Boston = tf.keras.datasets.boston_housing"
      ],
      "execution_count": 0,
      "outputs": []
    },
    {
      "cell_type": "code",
      "metadata": {
        "id": "_JYdV6rFAAcE",
        "colab_type": "code",
        "colab": {}
      },
      "source": [
        "(x_train, y_train), (x_test, y_test) = Boston.load_data(test_split=0.2)"
      ],
      "execution_count": 0,
      "outputs": []
    },
    {
      "cell_type": "code",
      "metadata": {
        "id": "w1uevdgTAKJ7",
        "colab_type": "code",
        "colab": {
          "base_uri": "https://localhost:8080/",
          "height": 85
        },
        "outputId": "c4917c2c-27a1-4ae8-de23-53958e7e8644"
      },
      "source": [
        "print(\"xtrain shape:\", x_train.shape)\n",
        "print(\"y_train shape\", y_train.shape)\n",
        "print(\"x_train sample:\", x_train[0])"
      ],
      "execution_count": 90,
      "outputs": [
        {
          "output_type": "stream",
          "text": [
            "xtrain shape: (404, 13)\n",
            "y_train shape (404,)\n",
            "x_train sample: [  1.23247   0.        8.14      0.        0.538     6.142    91.7\n",
            "   3.9769    4.      307.       21.      396.9      18.72   ]\n"
          ],
          "name": "stdout"
        }
      ]
    },
    {
      "cell_type": "code",
      "metadata": {
        "id": "ieZnnoQKBk8g",
        "colab_type": "code",
        "colab": {}
      },
      "source": [
        "mean = x_train.mean(axis=0)\n",
        "x_train -= mean\n",
        "std = x_train.std(axis=0)\n",
        "x_train /= std\n",
        "\n",
        "x_test -= mean\n",
        "x_test /= std\n"
      ],
      "execution_count": 0,
      "outputs": []
    },
    {
      "cell_type": "code",
      "metadata": {
        "id": "I2QdNrX_JIzC",
        "colab_type": "code",
        "colab": {
          "base_uri": "https://localhost:8080/",
          "height": 68
        },
        "outputId": "c17ed249-af61-47b4-e754-037a83fedaf1"
      },
      "source": [
        "print(\"x_train sample:\", x_train[0])"
      ],
      "execution_count": 92,
      "outputs": [
        {
          "output_type": "stream",
          "text": [
            "x_train sample: [-0.27224633 -0.48361547 -0.43576161 -0.25683275 -0.1652266  -0.1764426\n",
            "  0.81306188  0.1166983  -0.62624905 -0.59517003  1.14850044  0.44807713\n",
            "  0.8252202 ]\n"
          ],
          "name": "stdout"
        }
      ]
    },
    {
      "cell_type": "code",
      "metadata": {
        "id": "e6OB12eaFleK",
        "colab_type": "code",
        "colab": {}
      },
      "source": [
        "model = tf.keras.Sequential([\n",
        "                             tf.keras.layers.Dense(64, activation=tf.keras.activations.relu),\n",
        "                             tf.keras.layers.Dropout(0.2),\n",
        "                             tf.keras.layers.Dense(128, activation=tf.keras.activations.relu),\n",
        "                             tf.keras.layers.Dense(64, activation=tf.keras.activations.relu),\n",
        "                             tf.keras.layers.Dense(1)\n",
        "])"
      ],
      "execution_count": 0,
      "outputs": []
    },
    {
      "cell_type": "code",
      "metadata": {
        "id": "EDrFfNydGKuO",
        "colab_type": "code",
        "colab": {}
      },
      "source": [
        "model.compile(optimizer='Adam', loss='MSE', metrics=['MAE'])"
      ],
      "execution_count": 0,
      "outputs": []
    },
    {
      "cell_type": "code",
      "metadata": {
        "id": "Upc9UpVrHv_7",
        "colab_type": "code",
        "colab": {
          "base_uri": "https://localhost:8080/",
          "height": 1000
        },
        "outputId": "cdb5aee9-29d5-4193-a856-8e80363506d9"
      },
      "source": [
        "history = model.fit(x_train, y_train, validation_split=0.2 ,epochs=50)"
      ],
      "execution_count": 127,
      "outputs": [
        {
          "output_type": "stream",
          "text": [
            "Epoch 1/50\n",
            "WARNING:tensorflow:Layer dense_35 is casting an input tensor from dtype float64 to the layer's dtype of float32, which is new behavior in TensorFlow 2.  The layer has dtype float32 because it's dtype defaults to floatx.\n",
            "\n",
            "If you intended to run this layer in float32, you can safely ignore this warning. If in doubt, this warning is likely only an issue if you are porting a TensorFlow 1.X model to TensorFlow 2.\n",
            "\n",
            "To change all layers to have dtype float64 by default, call `tf.keras.backend.set_floatx('float64')`. To change just this layer, pass dtype='float64' to the layer constructor. If you are the author of this layer, you can disable autocasting by passing autocast=False to the base Layer constructor.\n",
            "\n",
            "11/11 [==============================] - 0s 11ms/step - loss: 545.7162 - MAE: 21.4165 - val_loss: 570.3538 - val_MAE: 21.9998\n",
            "Epoch 2/50\n",
            "11/11 [==============================] - 0s 4ms/step - loss: 459.7073 - MAE: 19.1991 - val_loss: 460.2079 - val_MAE: 19.3058\n",
            "Epoch 3/50\n",
            "11/11 [==============================] - 0s 5ms/step - loss: 328.7987 - MAE: 15.5423 - val_loss: 281.3923 - val_MAE: 14.4064\n",
            "Epoch 4/50\n",
            "11/11 [==============================] - 0s 4ms/step - loss: 171.7318 - MAE: 10.9511 - val_loss: 106.6113 - val_MAE: 8.1609\n",
            "Epoch 5/50\n",
            "11/11 [==============================] - 0s 5ms/step - loss: 77.3903 - MAE: 6.8341 - val_loss: 53.6776 - val_MAE: 5.6929\n",
            "Epoch 6/50\n",
            "11/11 [==============================] - 0s 5ms/step - loss: 56.1413 - MAE: 5.3530 - val_loss: 43.4985 - val_MAE: 4.9176\n",
            "Epoch 7/50\n",
            "11/11 [==============================] - 0s 4ms/step - loss: 40.2968 - MAE: 4.6165 - val_loss: 37.8576 - val_MAE: 4.5137\n",
            "Epoch 8/50\n",
            "11/11 [==============================] - 0s 4ms/step - loss: 37.4819 - MAE: 4.3820 - val_loss: 24.3269 - val_MAE: 3.7484\n",
            "Epoch 9/50\n",
            "11/11 [==============================] - 0s 4ms/step - loss: 29.4031 - MAE: 3.8030 - val_loss: 20.5453 - val_MAE: 3.5266\n",
            "Epoch 10/50\n",
            "11/11 [==============================] - 0s 5ms/step - loss: 29.1836 - MAE: 3.9579 - val_loss: 20.1177 - val_MAE: 3.3913\n",
            "Epoch 11/50\n",
            "11/11 [==============================] - 0s 4ms/step - loss: 24.9268 - MAE: 3.6121 - val_loss: 18.6717 - val_MAE: 3.2838\n",
            "Epoch 12/50\n",
            "11/11 [==============================] - 0s 4ms/step - loss: 28.4523 - MAE: 3.8303 - val_loss: 17.6202 - val_MAE: 3.1867\n",
            "Epoch 13/50\n",
            "11/11 [==============================] - 0s 4ms/step - loss: 27.0469 - MAE: 3.8043 - val_loss: 16.0706 - val_MAE: 3.2031\n",
            "Epoch 14/50\n",
            "11/11 [==============================] - 0s 4ms/step - loss: 23.1799 - MAE: 3.5361 - val_loss: 15.9142 - val_MAE: 3.1168\n",
            "Epoch 15/50\n",
            "11/11 [==============================] - 0s 5ms/step - loss: 23.3892 - MAE: 3.5050 - val_loss: 15.8118 - val_MAE: 3.0717\n",
            "Epoch 16/50\n",
            "11/11 [==============================] - 0s 5ms/step - loss: 22.5907 - MAE: 3.4773 - val_loss: 15.4065 - val_MAE: 3.0747\n",
            "Epoch 17/50\n",
            "11/11 [==============================] - 0s 4ms/step - loss: 24.0192 - MAE: 3.7049 - val_loss: 14.8574 - val_MAE: 3.0448\n",
            "Epoch 18/50\n",
            "11/11 [==============================] - 0s 4ms/step - loss: 20.2547 - MAE: 3.2961 - val_loss: 15.4810 - val_MAE: 3.0621\n",
            "Epoch 19/50\n",
            "11/11 [==============================] - 0s 5ms/step - loss: 21.9544 - MAE: 3.4578 - val_loss: 14.7356 - val_MAE: 3.0047\n",
            "Epoch 20/50\n",
            "11/11 [==============================] - 0s 5ms/step - loss: 21.6677 - MAE: 3.4771 - val_loss: 14.1131 - val_MAE: 2.9063\n",
            "Epoch 21/50\n",
            "11/11 [==============================] - 0s 5ms/step - loss: 21.3622 - MAE: 3.4187 - val_loss: 13.8022 - val_MAE: 2.8878\n",
            "Epoch 22/50\n",
            "11/11 [==============================] - 0s 4ms/step - loss: 17.1199 - MAE: 3.1721 - val_loss: 13.6411 - val_MAE: 2.8955\n",
            "Epoch 23/50\n",
            "11/11 [==============================] - 0s 4ms/step - loss: 18.0965 - MAE: 3.2398 - val_loss: 13.3384 - val_MAE: 2.8672\n",
            "Epoch 24/50\n",
            "11/11 [==============================] - 0s 5ms/step - loss: 18.1402 - MAE: 3.2653 - val_loss: 13.3225 - val_MAE: 2.8817\n",
            "Epoch 25/50\n",
            "11/11 [==============================] - 0s 5ms/step - loss: 17.2536 - MAE: 3.1850 - val_loss: 13.7853 - val_MAE: 2.8925\n",
            "Epoch 26/50\n",
            "11/11 [==============================] - 0s 4ms/step - loss: 17.6196 - MAE: 3.1381 - val_loss: 12.9307 - val_MAE: 2.8548\n",
            "Epoch 27/50\n",
            "11/11 [==============================] - 0s 4ms/step - loss: 18.9996 - MAE: 3.2022 - val_loss: 13.1587 - val_MAE: 2.9103\n",
            "Epoch 28/50\n",
            "11/11 [==============================] - 0s 5ms/step - loss: 16.1442 - MAE: 3.1138 - val_loss: 14.5332 - val_MAE: 2.9972\n",
            "Epoch 29/50\n",
            "11/11 [==============================] - 0s 4ms/step - loss: 20.2146 - MAE: 3.2261 - val_loss: 12.8021 - val_MAE: 2.8523\n",
            "Epoch 30/50\n",
            "11/11 [==============================] - 0s 4ms/step - loss: 18.3128 - MAE: 3.1528 - val_loss: 12.0511 - val_MAE: 2.7276\n",
            "Epoch 31/50\n",
            "11/11 [==============================] - 0s 4ms/step - loss: 17.0003 - MAE: 3.0308 - val_loss: 12.6042 - val_MAE: 2.7936\n",
            "Epoch 32/50\n",
            "11/11 [==============================] - 0s 4ms/step - loss: 16.4814 - MAE: 3.0941 - val_loss: 12.1916 - val_MAE: 2.7250\n",
            "Epoch 33/50\n",
            "11/11 [==============================] - 0s 4ms/step - loss: 16.7455 - MAE: 3.1421 - val_loss: 13.0629 - val_MAE: 2.8516\n",
            "Epoch 34/50\n",
            "11/11 [==============================] - 0s 4ms/step - loss: 17.5010 - MAE: 3.0146 - val_loss: 11.7005 - val_MAE: 2.7294\n",
            "Epoch 35/50\n",
            "11/11 [==============================] - 0s 5ms/step - loss: 14.3077 - MAE: 2.8324 - val_loss: 11.8599 - val_MAE: 2.7675\n",
            "Epoch 36/50\n",
            "11/11 [==============================] - 0s 4ms/step - loss: 15.6212 - MAE: 2.9105 - val_loss: 11.4562 - val_MAE: 2.6837\n",
            "Epoch 37/50\n",
            "11/11 [==============================] - 0s 4ms/step - loss: 16.4573 - MAE: 2.9204 - val_loss: 11.6150 - val_MAE: 2.6516\n",
            "Epoch 38/50\n",
            "11/11 [==============================] - 0s 4ms/step - loss: 16.8863 - MAE: 3.1069 - val_loss: 10.8780 - val_MAE: 2.6233\n",
            "Epoch 39/50\n",
            "11/11 [==============================] - 0s 5ms/step - loss: 16.6346 - MAE: 3.0297 - val_loss: 11.1091 - val_MAE: 2.6938\n",
            "Epoch 40/50\n",
            "11/11 [==============================] - 0s 5ms/step - loss: 14.7506 - MAE: 2.9071 - val_loss: 11.2038 - val_MAE: 2.7117\n",
            "Epoch 41/50\n",
            "11/11 [==============================] - 0s 4ms/step - loss: 15.6286 - MAE: 2.8319 - val_loss: 10.7622 - val_MAE: 2.6222\n",
            "Epoch 42/50\n",
            "11/11 [==============================] - 0s 4ms/step - loss: 15.7117 - MAE: 2.9524 - val_loss: 11.3301 - val_MAE: 2.6784\n",
            "Epoch 43/50\n",
            "11/11 [==============================] - 0s 4ms/step - loss: 14.7340 - MAE: 2.7657 - val_loss: 12.8546 - val_MAE: 2.8195\n",
            "Epoch 44/50\n",
            "11/11 [==============================] - 0s 5ms/step - loss: 14.2286 - MAE: 2.7663 - val_loss: 11.5156 - val_MAE: 2.6543\n",
            "Epoch 45/50\n",
            "11/11 [==============================] - 0s 5ms/step - loss: 15.0998 - MAE: 2.7745 - val_loss: 11.9452 - val_MAE: 2.7049\n",
            "Epoch 46/50\n",
            "11/11 [==============================] - 0s 4ms/step - loss: 13.9022 - MAE: 2.7848 - val_loss: 11.8815 - val_MAE: 2.6820\n",
            "Epoch 47/50\n",
            "11/11 [==============================] - 0s 4ms/step - loss: 16.1377 - MAE: 3.0153 - val_loss: 12.3849 - val_MAE: 2.7012\n",
            "Epoch 48/50\n",
            "11/11 [==============================] - 0s 4ms/step - loss: 15.2566 - MAE: 2.9576 - val_loss: 13.2871 - val_MAE: 2.9006\n",
            "Epoch 49/50\n",
            "11/11 [==============================] - 0s 4ms/step - loss: 14.8013 - MAE: 2.8408 - val_loss: 11.5671 - val_MAE: 2.7318\n",
            "Epoch 50/50\n",
            "11/11 [==============================] - 0s 4ms/step - loss: 13.4978 - MAE: 2.6264 - val_loss: 11.8665 - val_MAE: 2.7613\n"
          ],
          "name": "stdout"
        }
      ]
    },
    {
      "cell_type": "code",
      "metadata": {
        "id": "5gKTARZ6Kszj",
        "colab_type": "code",
        "colab": {
          "base_uri": "https://localhost:8080/",
          "height": 279
        },
        "outputId": "f25c3a22-ea75-4c87-b6c3-642f226ff1d9"
      },
      "source": [
        "import matplotlib.pyplot as plt\n",
        "plt.plot(history.history['loss'])\n",
        "plt.plot(history.history['val_loss'])\n",
        "plt.legend(['training loss', 'validation loss'])\n",
        "plt.xlabel('epoch')\n",
        "plt.ylabel('loss')\n",
        "plt.show()"
      ],
      "execution_count": 128,
      "outputs": [
        {
          "output_type": "display_data",
          "data": {
            "image/png": "[encoded data removed]",
            "text/plain": [
              "<Figure size 432x288 with 1 Axes>"
            ]
          },
          "metadata": {
            "tags": [],
            "needs_background": "light"
          }
        }
      ]
    },
    {
      "cell_type": "code",
      "metadata": {
        "id": "o637HuVFP0zK",
        "colab_type": "code",
        "colab": {
          "base_uri": "https://localhost:8080/",
          "height": 279
        },
        "outputId": "151cfd02-b444-47db-eabb-993aec577be5"
      },
      "source": [
        "plt.plot(history.history['MAE'])\n",
        "plt.plot(history.history['val_MAE'])\n",
        "plt.legend(['training MAE', 'validation MAE'])\n",
        "plt.xlabel('epoch')\n",
        "plt.ylabel('MAE')\n",
        "plt.show()"
      ],
      "execution_count": 129,
      "outputs": [
        {
          "output_type": "display_data",
          "data": {
            "image/png": "[encoded data removed]",
            "text/plain": [
              "<Figure size 432x288 with 1 Axes>"
            ]
          },
          "metadata": {
            "tags": [],
            "needs_background": "light"
          }
        }
      ]
    },
    {
      "cell_type": "code",
      "metadata": {
        "id": "zIKC9Dx7IOBP",
        "colab_type": "code",
        "colab": {
          "base_uri": "https://localhost:8080/",
          "height": 51
        },
        "outputId": "41f8215c-f0e2-4821-ebf7-e360d9aeeeb7"
      },
      "source": [
        "model.evaluate(x_test, y_test)"
      ],
      "execution_count": 130,
      "outputs": [
        {
          "output_type": "stream",
          "text": [
            "4/4 [==============================] - 0s 2ms/step - loss: 25.5808 - MAE: 3.4150\n"
          ],
          "name": "stdout"
        },
        {
          "output_type": "execute_result",
          "data": {
            "text/plain": [
              "[25.580839157104492, 3.41501522064209]"
            ]
          },
          "metadata": {
            "tags": []
          },
          "execution_count": 130
        }
      ]
    }
  ]
}